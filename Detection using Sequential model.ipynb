{
 "cells": [
  {
   "cell_type": "code",
   "execution_count": 42,
   "id": "8237fa95",
   "metadata": {},
   "outputs": [],
   "source": [
    "import numpy as np\n",
    "import pandas as pd\n",
    "import os\n",
    "import itertools\n",
    "import os, stat, time\n",
    "from os.path import dirname as up\n",
    "import shutil\n",
    "from PIL import Image\n",
    "from tqdm.notebook import tqdm\n",
    "import matplotlib.pyplot as plt\n",
    "import matplotlib.image as mpimg\n",
    "import cv2\n",
    "\n",
    "from sklearn.model_selection import train_test_split\n",
    "from tensorflow.keras.utils import to_categorical\n",
    "\n",
    "from tensorflow.keras import Sequential\n",
    "from tensorflow.keras.optimizers import SGD, RMSprop, Adam, Adagrad, Adadelta\n",
    "from tensorflow.keras.layers import Dense, Dropout, Activation, Flatten, BatchNormalization, Conv2D, MaxPool2D, MaxPooling2D\n",
    "from tensorflow.keras.callbacks import EarlyStopping"
   ]
  },
  {
   "cell_type": "code",
   "execution_count": 43,
   "id": "64a9c44d",
   "metadata": {},
   "outputs": [
    {
     "data": {
      "application/vnd.jupyter.widget-view+json": {
       "model_id": "d770aa0e3a7b4aa394a1eab39462c4d9",
       "version_major": 2,
       "version_minor": 0
      },
      "text/plain": [
       "  0%|          | 0/279 [00:00<?, ?it/s]"
      ]
     },
     "metadata": {},
     "output_type": "display_data"
    },
    {
     "data": {
      "text/plain": [
       "277524"
      ]
     },
     "execution_count": 43,
     "metadata": {},
     "output_type": "execute_result"
    }
   ],
   "source": [
    "import numpy as np\n",
    "import pandas as pd\n",
    "from tqdm.notebook import tqdm\n",
    "\n",
    "base = 'C:/Users/sasha/breast-cancer-classification.zip (Unzipped Files)-20211116T195524Z-001/breast-cancer-classification.zip (Unzipped Files)/breast-cancer-classification/mkdir datasets/original/archive/IDC_regular_ps50_idx5'\n",
    "\n",
    "ids = os.listdir(base)\n",
    "data = []\n",
    "\n",
    "for id in tqdm(ids):\n",
    "\n",
    "    files1 = os.listdir(base + '/'+id + '/1/')\n",
    "    files0 = os.listdir(base +'/'+ id + '/0/')\n",
    "    for x in files1:\n",
    "      data.append(base + '/'+ id + '/1/' + x)\n",
    "    for x in files0:\n",
    "      data.append(base + '/'+ id + '/0/' + x)\n",
    "\n",
    "len(data)"
   ]
  },
  {
   "cell_type": "code",
   "execution_count": 44,
   "id": "4f024423",
   "metadata": {},
   "outputs": [
    {
     "data": {
      "text/plain": [
       "20000"
      ]
     },
     "execution_count": 44,
     "metadata": {},
     "output_type": "execute_result"
    }
   ],
   "source": [
    "import random\n",
    "\n",
    "random.shuffle(data)\n",
    "data = data[:20000]\n",
    "len(data)\n"
   ]
  },
  {
   "cell_type": "code",
   "execution_count": 45,
   "id": "4ea179b5",
   "metadata": {},
   "outputs": [
    {
     "data": {
      "application/vnd.jupyter.widget-view+json": {
       "model_id": "60c59236c0204c658c80c60e3e7d218d",
       "version_major": 2,
       "version_minor": 0
      },
      "text/plain": [
       "  0%|          | 0/20000 [00:00<?, ?it/s]"
      ]
     },
     "metadata": {},
     "output_type": "display_data"
    }
   ],
   "source": [
    "import cv2\n",
    "from tqdm.notebook import tqdm\n",
    "import keras_preprocessing.image as IMAGE\n",
    "from PIL import Image\n",
    "\n",
    "images=[]\n",
    "labels=[]\n",
    "\n",
    "for i in tqdm(data):\n",
    "  label = int(i[-5])\n",
    "  img = IMAGE.img_to_array(IMAGE.load_img(i, target_size=(50, 50)))\n",
    "  images.append(img)\n",
    "  labels.append(label)"
   ]
  },
  {
   "cell_type": "code",
   "execution_count": 39,
   "id": "4ffb7cbd",
   "metadata": {},
   "outputs": [
    {
     "name": "stdout",
     "output_type": "stream",
     "text": [
      "(14000, 50, 50, 3) (6000, 50, 50, 3) (14000,) (6000,)\n"
     ]
    }
   ],
   "source": [
    "from sklearn.model_selection import train_test_split\n",
    "\n",
    "y = np.array(labels)\n",
    "x = np.stack(images)/255\n",
    "\n",
    "x_train,x_test,y_train,y_test = train_test_split(x, y, random_state=0, test_size=0.3)\n",
    "print(x_train.shape, x_test.shape, y_train.shape, y_test.shape)"
   ]
  },
  {
   "cell_type": "code",
   "execution_count": 46,
   "id": "ff0e88bd",
   "metadata": {},
   "outputs": [
    {
     "name": "stdout",
     "output_type": "stream",
     "text": [
      "Model: \"sequential_1\"\n",
      "_________________________________________________________________\n",
      "Layer (type)                 Output Shape              Param #   \n",
      "=================================================================\n",
      "conv2d (Conv2D)              (None, 47, 47, 32)        1568      \n",
      "_________________________________________________________________\n",
      "max_pooling2d (MaxPooling2D) (None, 23, 23, 32)        0         \n",
      "_________________________________________________________________\n",
      "max_pooling2d_1 (MaxPooling2 (None, 11, 11, 32)        0         \n",
      "_________________________________________________________________\n",
      "dropout (Dropout)            (None, 11, 11, 32)        0         \n",
      "_________________________________________________________________\n",
      "conv2d_1 (Conv2D)            (None, 8, 8, 32)          16416     \n",
      "_________________________________________________________________\n",
      "max_pooling2d_2 (MaxPooling2 (None, 4, 4, 32)          0         \n",
      "_________________________________________________________________\n",
      "max_pooling2d_3 (MaxPooling2 (None, 2, 2, 32)          0         \n",
      "_________________________________________________________________\n",
      "dropout_1 (Dropout)          (None, 2, 2, 32)          0         \n",
      "_________________________________________________________________\n",
      "flatten (Flatten)            (None, 128)               0         \n",
      "_________________________________________________________________\n",
      "dense (Dense)                (None, 64)                8256      \n",
      "_________________________________________________________________\n",
      "dense_1 (Dense)              (None, 1)                 65        \n",
      "=================================================================\n",
      "Total params: 26,305\n",
      "Trainable params: 26,305\n",
      "Non-trainable params: 0\n",
      "_________________________________________________________________\n"
     ]
    }
   ],
   "source": [
    "model=Sequential()\n",
    "\n",
    "model.add(Conv2D(filters=32,kernel_size=(4,4),input_shape=(50,50,3),activation='relu'))\n",
    "model.add(MaxPool2D(pool_size=(2,2)))\n",
    "model.add(MaxPool2D(pool_size=(2,2)))\n",
    "model.add(Dropout(0.25))\n",
    "model.add(Conv2D(filters=32,kernel_size=(4,4),activation='relu'))\n",
    "model.add(MaxPool2D(pool_size=(2,2)))\n",
    "model.add(MaxPool2D(pool_size=(2,2), strides=(2,2)))\n",
    "model.add(Dropout(0.25))\n",
    "model.add(Flatten())\n",
    "model.add(Dense(64,activation='relu'))\n",
    "model.add(Dense(1,activation='sigmoid'))\n",
    "model.compile(loss = 'binary_crossentropy', optimizer ='adam', metrics= ['accuracy'])\n",
    "\n",
    "model.summary()"
   ]
  },
  {
   "cell_type": "code",
   "execution_count": 47,
   "id": "142f9061",
   "metadata": {},
   "outputs": [
    {
     "name": "stdout",
     "output_type": "stream",
     "text": [
      "Train on 14000 samples, validate on 6000 samples\n",
      "Epoch 1/100\n",
      "14000/14000 - 18s - loss: 0.5776 - accuracy: 0.7044 - val_loss: 0.5758 - val_accuracy: 0.7258\n",
      "Epoch 2/100\n",
      "14000/14000 - 17s - loss: 0.4803 - accuracy: 0.7672 - val_loss: 0.4547 - val_accuracy: 0.7980\n",
      "Epoch 3/100\n",
      "14000/14000 - 16s - loss: 0.4491 - accuracy: 0.7949 - val_loss: 0.4527 - val_accuracy: 0.8095\n",
      "Epoch 4/100\n",
      "14000/14000 - 16s - loss: 0.4275 - accuracy: 0.8130 - val_loss: 0.4169 - val_accuracy: 0.8210\n",
      "Epoch 5/100\n",
      "14000/14000 - 16s - loss: 0.4157 - accuracy: 0.8204 - val_loss: 0.4131 - val_accuracy: 0.8317\n",
      "Epoch 6/100\n",
      "14000/14000 - 16s - loss: 0.4056 - accuracy: 0.8243 - val_loss: 0.4550 - val_accuracy: 0.7967\n",
      "Epoch 7/100\n",
      "14000/14000 - 16s - loss: 0.4048 - accuracy: 0.8250 - val_loss: 0.3960 - val_accuracy: 0.8345\n",
      "Epoch 8/100\n",
      "14000/14000 - 16s - loss: 0.3978 - accuracy: 0.8284 - val_loss: 0.3948 - val_accuracy: 0.8288\n",
      "Epoch 9/100\n",
      "14000/14000 - 16s - loss: 0.4030 - accuracy: 0.8222 - val_loss: 0.4206 - val_accuracy: 0.8267\n",
      "Epoch 10/100\n",
      "14000/14000 - 16s - loss: 0.4057 - accuracy: 0.8239 - val_loss: 0.3912 - val_accuracy: 0.8380\n",
      "Epoch 11/100\n",
      "14000/14000 - 16s - loss: 0.3870 - accuracy: 0.8314 - val_loss: 0.3864 - val_accuracy: 0.8357\n",
      "Epoch 12/100\n",
      "14000/14000 - 16s - loss: 0.4029 - accuracy: 0.8240 - val_loss: 0.4415 - val_accuracy: 0.8063\n",
      "Epoch 13/100\n",
      "14000/14000 - 16s - loss: 0.4033 - accuracy: 0.8266 - val_loss: 0.3886 - val_accuracy: 0.8397\n",
      "Epoch 14/100\n",
      "14000/14000 - 16s - loss: 0.3930 - accuracy: 0.8304 - val_loss: 0.3840 - val_accuracy: 0.8375\n",
      "Epoch 15/100\n",
      "14000/14000 - 16s - loss: 0.3812 - accuracy: 0.8366 - val_loss: 0.3805 - val_accuracy: 0.8435\n",
      "Epoch 16/100\n",
      "14000/14000 - 16s - loss: 0.3849 - accuracy: 0.8353 - val_loss: 0.3761 - val_accuracy: 0.8447\n",
      "Epoch 17/100\n",
      "14000/14000 - 16s - loss: 0.3794 - accuracy: 0.8376 - val_loss: 0.4088 - val_accuracy: 0.8343\n",
      "Epoch 18/100\n",
      "14000/14000 - 16s - loss: 0.3886 - accuracy: 0.8327 - val_loss: 0.3835 - val_accuracy: 0.8382\n",
      "Epoch 19/100\n",
      "14000/14000 - 16s - loss: 0.3806 - accuracy: 0.8364 - val_loss: 0.3737 - val_accuracy: 0.8443\n",
      "Epoch 20/100\n",
      "14000/14000 - 16s - loss: 0.3768 - accuracy: 0.8386 - val_loss: 0.3715 - val_accuracy: 0.8448\n",
      "Epoch 21/100\n",
      "14000/14000 - 16s - loss: 0.3774 - accuracy: 0.8384 - val_loss: 0.3975 - val_accuracy: 0.8315\n",
      "Epoch 22/100\n",
      "14000/14000 - 16s - loss: 0.3796 - accuracy: 0.8391 - val_loss: 0.3918 - val_accuracy: 0.8392\n",
      "Epoch 23/100\n",
      "14000/14000 - 16s - loss: 0.3793 - accuracy: 0.8348 - val_loss: 0.3687 - val_accuracy: 0.8448\n",
      "Epoch 24/100\n",
      "14000/14000 - 16s - loss: 0.3709 - accuracy: 0.8416 - val_loss: 0.3768 - val_accuracy: 0.8475\n",
      "Epoch 25/100\n",
      "14000/14000 - 16s - loss: 0.3721 - accuracy: 0.8393 - val_loss: 0.3678 - val_accuracy: 0.8452\n",
      "Epoch 26/100\n",
      "14000/14000 - 16s - loss: 0.3748 - accuracy: 0.8377 - val_loss: 0.3765 - val_accuracy: 0.8437\n",
      "Epoch 27/100\n",
      "14000/14000 - 16s - loss: 0.3668 - accuracy: 0.8426 - val_loss: 0.3716 - val_accuracy: 0.8468\n",
      "Epoch 28/100\n",
      "14000/14000 - 16s - loss: 0.3669 - accuracy: 0.8439 - val_loss: 0.3673 - val_accuracy: 0.8520\n",
      "Epoch 29/100\n",
      "14000/14000 - 16s - loss: 0.3659 - accuracy: 0.8431 - val_loss: 0.3602 - val_accuracy: 0.8537\n",
      "Epoch 30/100\n",
      "14000/14000 - 16s - loss: 0.3683 - accuracy: 0.8416 - val_loss: 0.3734 - val_accuracy: 0.8547\n",
      "Epoch 31/100\n",
      "14000/14000 - 16s - loss: 0.3635 - accuracy: 0.8433 - val_loss: 0.3816 - val_accuracy: 0.8427\n",
      "Epoch 32/100\n",
      "14000/14000 - 16s - loss: 0.3628 - accuracy: 0.8434 - val_loss: 0.3630 - val_accuracy: 0.8505\n",
      "Epoch 33/100\n",
      "14000/14000 - 16s - loss: 0.3636 - accuracy: 0.8436 - val_loss: 0.3990 - val_accuracy: 0.8345\n",
      "Epoch 34/100\n",
      "14000/14000 - 17s - loss: 0.3565 - accuracy: 0.8467 - val_loss: 0.3961 - val_accuracy: 0.8428\n",
      "Epoch 35/100\n",
      "14000/14000 - 16s - loss: 0.3599 - accuracy: 0.8463 - val_loss: 0.3576 - val_accuracy: 0.8523\n",
      "Epoch 36/100\n",
      "14000/14000 - 16s - loss: 0.3650 - accuracy: 0.8437 - val_loss: 0.3674 - val_accuracy: 0.8475\n",
      "Epoch 37/100\n",
      "14000/14000 - 16s - loss: 0.3620 - accuracy: 0.8454 - val_loss: 0.3971 - val_accuracy: 0.8298\n",
      "Epoch 38/100\n",
      "14000/14000 - 16s - loss: 0.3663 - accuracy: 0.8456 - val_loss: 0.3641 - val_accuracy: 0.8508\n",
      "Epoch 39/100\n",
      "14000/14000 - 16s - loss: 0.3623 - accuracy: 0.8444 - val_loss: 0.3757 - val_accuracy: 0.8407\n",
      "Epoch 40/100\n",
      "14000/14000 - 16s - loss: 0.3598 - accuracy: 0.8455 - val_loss: 0.3654 - val_accuracy: 0.8528\n",
      "Epoch 41/100\n",
      "14000/14000 - 16s - loss: 0.3568 - accuracy: 0.8482 - val_loss: 0.3596 - val_accuracy: 0.8525\n",
      "Epoch 42/100\n",
      "14000/14000 - 15s - loss: 0.3619 - accuracy: 0.8456 - val_loss: 0.3602 - val_accuracy: 0.8532\n",
      "Epoch 43/100\n",
      "14000/14000 - 13s - loss: 0.3530 - accuracy: 0.8496 - val_loss: 0.3660 - val_accuracy: 0.8497\n",
      "Epoch 44/100\n",
      "14000/14000 - 11s - loss: 0.3556 - accuracy: 0.8499 - val_loss: 0.4088 - val_accuracy: 0.8315\n",
      "Epoch 45/100\n",
      "14000/14000 - 12s - loss: 0.3528 - accuracy: 0.8519 - val_loss: 0.3566 - val_accuracy: 0.8503\n",
      "Epoch 46/100\n",
      "14000/14000 - 14s - loss: 0.3566 - accuracy: 0.8497 - val_loss: 0.3872 - val_accuracy: 0.8385\n",
      "Epoch 47/100\n",
      "14000/14000 - 15s - loss: 0.3618 - accuracy: 0.8469 - val_loss: 0.3752 - val_accuracy: 0.8420\n",
      "Epoch 48/100\n",
      "14000/14000 - 15s - loss: 0.3528 - accuracy: 0.8519 - val_loss: 0.3577 - val_accuracy: 0.8510\n",
      "Epoch 49/100\n",
      "14000/14000 - 14s - loss: 0.3507 - accuracy: 0.8522 - val_loss: 0.3555 - val_accuracy: 0.8520\n",
      "Epoch 50/100\n",
      "14000/14000 - 14s - loss: 0.3533 - accuracy: 0.8481 - val_loss: 0.3600 - val_accuracy: 0.8505\n",
      "Epoch 51/100\n",
      "14000/14000 - 14s - loss: 0.3511 - accuracy: 0.8499 - val_loss: 0.3583 - val_accuracy: 0.8522\n",
      "Epoch 52/100\n",
      "14000/14000 - 14s - loss: 0.3489 - accuracy: 0.8514 - val_loss: 0.3679 - val_accuracy: 0.8518\n",
      "Epoch 53/100\n",
      "14000/14000 - 14s - loss: 0.3575 - accuracy: 0.8503 - val_loss: 0.3691 - val_accuracy: 0.8508\n",
      "Epoch 54/100\n",
      "14000/14000 - 14s - loss: 0.3530 - accuracy: 0.8506 - val_loss: 0.3800 - val_accuracy: 0.8377\n",
      "Epoch 55/100\n",
      "14000/14000 - 15s - loss: 0.3543 - accuracy: 0.8483 - val_loss: 0.3662 - val_accuracy: 0.8567\n",
      "Epoch 56/100\n",
      "14000/14000 - 14s - loss: 0.3490 - accuracy: 0.8490 - val_loss: 0.3526 - val_accuracy: 0.8513\n",
      "Epoch 57/100\n",
      "14000/14000 - 14s - loss: 0.3460 - accuracy: 0.8546 - val_loss: 0.3681 - val_accuracy: 0.8493\n",
      "Epoch 58/100\n",
      "14000/14000 - 15s - loss: 0.3434 - accuracy: 0.8541 - val_loss: 0.3656 - val_accuracy: 0.8498\n",
      "Epoch 59/100\n",
      "14000/14000 - 14s - loss: 0.3475 - accuracy: 0.8529 - val_loss: 0.3554 - val_accuracy: 0.8532\n",
      "Epoch 60/100\n",
      "14000/14000 - 15s - loss: 0.3398 - accuracy: 0.8525 - val_loss: 0.3491 - val_accuracy: 0.8560\n",
      "Epoch 61/100\n",
      "14000/14000 - 14s - loss: 0.3394 - accuracy: 0.8537 - val_loss: 0.3754 - val_accuracy: 0.8385\n",
      "Epoch 62/100\n",
      "14000/14000 - 14s - loss: 0.3472 - accuracy: 0.8511 - val_loss: 0.3619 - val_accuracy: 0.8492\n",
      "Epoch 63/100\n",
      "14000/14000 - 14s - loss: 0.3432 - accuracy: 0.8546 - val_loss: 0.3507 - val_accuracy: 0.8507\n",
      "Epoch 64/100\n",
      "14000/14000 - 14s - loss: 0.3504 - accuracy: 0.8521 - val_loss: 0.3546 - val_accuracy: 0.8555\n",
      "Epoch 65/100\n",
      "14000/14000 - 14s - loss: 0.3429 - accuracy: 0.8542 - val_loss: 0.3542 - val_accuracy: 0.8535\n",
      "Epoch 66/100\n",
      "14000/14000 - 15s - loss: 0.3494 - accuracy: 0.8500 - val_loss: 0.3541 - val_accuracy: 0.8545\n",
      "Epoch 67/100\n",
      "14000/14000 - 15s - loss: 0.3421 - accuracy: 0.8546 - val_loss: 0.3646 - val_accuracy: 0.8485\n",
      "Epoch 68/100\n",
      "14000/14000 - 15s - loss: 0.3382 - accuracy: 0.8556 - val_loss: 0.3646 - val_accuracy: 0.8485\n",
      "Epoch 69/100\n",
      "14000/14000 - 14s - loss: 0.3385 - accuracy: 0.8569 - val_loss: 0.3730 - val_accuracy: 0.8415\n",
      "Epoch 70/100\n",
      "14000/14000 - 14s - loss: 0.3374 - accuracy: 0.8579 - val_loss: 0.3635 - val_accuracy: 0.8428\n",
      "Epoch 71/100\n",
      "14000/14000 - 14s - loss: 0.3386 - accuracy: 0.8549 - val_loss: 0.3485 - val_accuracy: 0.8542\n",
      "Epoch 72/100\n",
      "14000/14000 - 15s - loss: 0.3312 - accuracy: 0.8595 - val_loss: 0.4493 - val_accuracy: 0.7870\n",
      "Epoch 73/100\n",
      "14000/14000 - 15s - loss: 0.3407 - accuracy: 0.8551 - val_loss: 0.3536 - val_accuracy: 0.8535\n",
      "Epoch 74/100\n",
      "14000/14000 - 15s - loss: 0.3408 - accuracy: 0.8547 - val_loss: 0.3558 - val_accuracy: 0.8542\n",
      "Epoch 75/100\n",
      "14000/14000 - 15s - loss: 0.3337 - accuracy: 0.8594 - val_loss: 0.3517 - val_accuracy: 0.8503\n",
      "Epoch 76/100\n",
      "14000/14000 - 15s - loss: 0.3358 - accuracy: 0.8611 - val_loss: 0.3566 - val_accuracy: 0.8520\n",
      "Epoch 77/100\n",
      "14000/14000 - 15s - loss: 0.3377 - accuracy: 0.8569 - val_loss: 0.3706 - val_accuracy: 0.8457\n"
     ]
    },
    {
     "name": "stdout",
     "output_type": "stream",
     "text": [
      "Epoch 78/100\n",
      "14000/14000 - 15s - loss: 0.3332 - accuracy: 0.8575 - val_loss: 0.3481 - val_accuracy: 0.8515\n",
      "Epoch 79/100\n",
      "14000/14000 - 14s - loss: 0.3353 - accuracy: 0.8570 - val_loss: 0.3449 - val_accuracy: 0.8605\n",
      "Epoch 80/100\n",
      "14000/14000 - 15s - loss: 0.3394 - accuracy: 0.8579 - val_loss: 0.3525 - val_accuracy: 0.8540\n",
      "Epoch 81/100\n",
      "14000/14000 - 15s - loss: 0.3384 - accuracy: 0.8571 - val_loss: 0.3588 - val_accuracy: 0.8502\n",
      "Epoch 82/100\n",
      "14000/14000 - 15s - loss: 0.3300 - accuracy: 0.8612 - val_loss: 0.3506 - val_accuracy: 0.8525\n",
      "Epoch 83/100\n",
      "14000/14000 - 16s - loss: 0.3335 - accuracy: 0.8588 - val_loss: 0.3492 - val_accuracy: 0.8528\n",
      "Epoch 84/100\n",
      "14000/14000 - 15s - loss: 0.3267 - accuracy: 0.8631 - val_loss: 0.3458 - val_accuracy: 0.8548\n",
      "Epoch 85/100\n",
      "14000/14000 - 15s - loss: 0.3294 - accuracy: 0.8585 - val_loss: 0.3494 - val_accuracy: 0.8535\n",
      "Epoch 86/100\n",
      "14000/14000 - 15s - loss: 0.3318 - accuracy: 0.8596 - val_loss: 0.3431 - val_accuracy: 0.8538\n",
      "Epoch 87/100\n",
      "14000/14000 - 16s - loss: 0.3303 - accuracy: 0.8594 - val_loss: 0.3684 - val_accuracy: 0.8438\n",
      "Epoch 88/100\n",
      "14000/14000 - 15s - loss: 0.3314 - accuracy: 0.8589 - val_loss: 0.3457 - val_accuracy: 0.8582\n",
      "Epoch 89/100\n",
      "14000/14000 - 15s - loss: 0.3340 - accuracy: 0.8589 - val_loss: 0.3479 - val_accuracy: 0.8552\n",
      "Epoch 90/100\n",
      "14000/14000 - 15s - loss: 0.3260 - accuracy: 0.8613 - val_loss: 0.3457 - val_accuracy: 0.8530\n",
      "Epoch 91/100\n",
      "14000/14000 - 14s - loss: 0.3269 - accuracy: 0.8563 - val_loss: 0.3446 - val_accuracy: 0.8548\n",
      "Epoch 92/100\n",
      "14000/14000 - 15s - loss: 0.3274 - accuracy: 0.8642 - val_loss: 0.3482 - val_accuracy: 0.8500\n",
      "Epoch 93/100\n",
      "14000/14000 - 15s - loss: 0.3245 - accuracy: 0.8606 - val_loss: 0.3436 - val_accuracy: 0.8542\n",
      "Epoch 94/100\n",
      "14000/14000 - 15s - loss: 0.3268 - accuracy: 0.8626 - val_loss: 0.3468 - val_accuracy: 0.8555\n",
      "Epoch 95/100\n",
      "14000/14000 - 16s - loss: 0.3221 - accuracy: 0.8654 - val_loss: 0.3355 - val_accuracy: 0.8597\n",
      "Epoch 96/100\n",
      "14000/14000 - 15s - loss: 0.3236 - accuracy: 0.8631 - val_loss: 0.3409 - val_accuracy: 0.8595\n",
      "Epoch 97/100\n",
      "14000/14000 - 15s - loss: 0.3230 - accuracy: 0.8625 - val_loss: 0.3439 - val_accuracy: 0.8587\n",
      "Epoch 98/100\n",
      "14000/14000 - 16s - loss: 0.3248 - accuracy: 0.8601 - val_loss: 0.3396 - val_accuracy: 0.8622\n",
      "Epoch 99/100\n",
      "14000/14000 - 15s - loss: 0.3215 - accuracy: 0.8617 - val_loss: 0.3385 - val_accuracy: 0.8608\n",
      "Epoch 100/100\n",
      "14000/14000 - 15s - loss: 0.3275 - accuracy: 0.8604 - val_loss: 0.3553 - val_accuracy: 0.8498\n"
     ]
    }
   ],
   "source": [
    "import tensorflow as tf\n",
    "\n",
    "history = model.fit(x_train, y_train, validation_data = (x_test, y_test), epochs = 100, verbose = 2, batch_size = 256)"
   ]
  },
  {
   "cell_type": "code",
   "execution_count": 48,
   "id": "0023169c",
   "metadata": {},
   "outputs": [
    {
     "data": {
      "image/png": "[encoded data removed]",
      "text/plain": [
       "<Figure size 432x288 with 1 Axes>"
      ]
     },
     "metadata": {
      "needs_background": "light"
     },
     "output_type": "display_data"
    }
   ],
   "source": [
    "plt.plot(history.history['accuracy'])\n",
    "plt.plot(history.history['val_accuracy'])\n",
    "plt.title('model accuracy')\n",
    "plt.legend(['train', 'val'], loc='upper left')\n",
    "plt.show()"
   ]
  },
  {
   "cell_type": "code",
   "execution_count": 49,
   "id": "fe630b2a",
   "metadata": {},
   "outputs": [
    {
     "data": {
      "image/png": "[encoded data removed]",
      "text/plain": [
       "<Figure size 432x288 with 1 Axes>"
      ]
     },
     "metadata": {
      "needs_background": "light"
     },
     "output_type": "display_data"
    }
   ],
   "source": [
    "plt.plot(history.history['loss'])\n",
    "plt.plot(history.history['val_loss'])\n",
    "plt.title('model loss')\n",
    "plt.legend(['train', 'val'], loc='upper left')\n",
    "plt.show()"
   ]
  },
  {
   "cell_type": "code",
   "execution_count": null,
   "id": "edcc70cf",
   "metadata": {},
   "outputs": [],
   "source": []
  }
 ],
 "metadata": {
  "kernelspec": {
   "display_name": "Python 3 (ipykernel)",
   "language": "python",
   "name": "python3"
  },
  "language_info": {
   "codemirror_mode": {
    "name": "ipython",
    "version": 3
   },
   "file_extension": ".py",
   "mimetype": "text/x-python",
   "name": "python",
   "nbconvert_exporter": "python",
   "pygments_lexer": "ipython3",
   "version": "3.9.7"
  }
 },
 "nbformat": 4,
 "nbformat_minor": 5
}
